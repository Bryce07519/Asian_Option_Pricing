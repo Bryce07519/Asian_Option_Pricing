{
 "cells": [
  {
   "cell_type": "markdown",
   "metadata": {},
   "source": [
    "# Price Asian Options with Control Variate"
   ]
  },
  {
   "cell_type": "markdown",
   "metadata": {},
   "source": [
    "\n",
    "**Summary**: This notebook shown an example of class in Python, to estimate the price of **Arithmetic Asian option** using **Monte-Carlo Simulation**, *with* and *without* **Control Variate** over the Geometric average option value.\n"
   ]
  },
  {
   "cell_type": "code",
   "execution_count": 1,
   "metadata": {},
   "outputs": [
    {
     "name": "stdout",
     "output_type": "stream",
     "text": [
      "=====================================================================================\n",
      "Python version:     3.8.16 (default, Mar  2 2023, 03:21:46) \n",
      "[GCC 11.2.0]\n",
      "Numpy version:      1.23.5\n",
      "IPython version:    8.10.0\n",
      "=====================================================================================\n"
     ]
    }
   ],
   "source": [
    "import IPython\n",
    "import numpy as np\n",
    "from sys import version \n",
    "print('='*85)\n",
    "print('Python version:     ' + version)\n",
    "print( 'Numpy version:      ' + np.__version__)\n",
    "print( 'IPython version:    ' + IPython.__version__)\n",
    "print('='*85)"
   ]
  },
  {
   "cell_type": "code",
   "execution_count": 2,
   "metadata": {},
   "outputs": [],
   "source": [
    "import numpy as np\n",
    "from scipy.special import erf\n",
    "\n",
    "\n",
    "class AsianOptionMC(object):\n",
    "    \"\"\" Class for Asian options pricing using control variate\n",
    "    S0 : float : initial stock/index level\n",
    "    strike : float : strike price\n",
    "    T : float : time to maturity (in year fractions)\n",
    "    M : int : grid or granularity for time (in number of total points)\n",
    "    r : float : constant risk-free short rate\n",
    "    div :    float : dividend yield\n",
    "    sigma :  float : volatility factor in diffusion term \n",
    "    \n",
    "    Unitest (doctest):\n",
    "    >>> AsianCall = AsianOptionMC('call', 4., 4., 1., 100., .03, 0, .25, 10000)\n",
    "    >>> AsianCall.value\n",
    "    (0.26141622329842962, 0.25359138249114327, 0.26924106410571597)\n",
    "    >>> myAsianCall.value_with_control_variate\n",
    "    (0.25813771282805958, 0.25771678775128265, 0.25855863790483652)\n",
    "    \n",
    "    \"\"\"\n",
    "\n",
    "    def __init__(self, option_type, S0, strike, T, M, r, div, sigma, simulations):\n",
    "        try:\n",
    "            self.option_type = option_type\n",
    "            assert isinstance(option_type, str)\n",
    "            self.S0 = float(S0)\n",
    "            self.strike = float(strike)\n",
    "            self.T = float(T)\n",
    "            self.M = int(M)\n",
    "            self.r = float(r)\n",
    "            self.div = float(div)\n",
    "            self.sigma = float(sigma)\n",
    "            self.simulations = int(simulations)\n",
    "        except ValueError:\n",
    "            print('Error passing Options parameters')\n",
    "\n",
    "        if option_type != 'call' and option_type != 'put':\n",
    "            raise ValueError(\"Error: option type not valid. Enter 'call' or 'put'\")\n",
    "        if S0 < 0 or strike < 0 or T <= 0 or r < 0 or div < 0 or sigma < 0:\n",
    "            raise ValueError('Error: Negative inputs not allowed')\n",
    "\n",
    "        self.time_unit = self.T / float(self.M)\n",
    "        self.discount = np.exp(- self.r * self.T)\n",
    "\n",
    "    @property\n",
    "    def GeometricAsianOption(self):\n",
    "        #analytical formula\n",
    "        sigsqT = ((self.sigma ** 2 * self.T * (self.M + 1) * (2 * self.M + 1))\n",
    "                  / (6 * self.M * self.M))\n",
    "        muT = (0.5 * sigsqT + (self.r - 0.5 * self.sigma ** 2)\n",
    "               * self.T * (self.M + 1) / (2 * self.M))\n",
    "        d1 = ((np.log(self.S0 / self.strike) + (muT + 0.5 * sigsqT))\n",
    "              / np.sqrt(sigsqT))\n",
    "        d2 = d1 - np.sqrt(sigsqT)\n",
    "        N1 = 0.5 * (1 + erf(d1 / np.sqrt(2)))\n",
    "        N2 = 0.5 * (1 + erf(d2 / np.sqrt(2)))\n",
    "        geometric_value = self.discount * (self.S0 * np.exp(muT) * N1 - self.strike * N2)\n",
    "        return geometric_value\n",
    "\n",
    "    @property\n",
    "    def price_path(self, seed = 100):\n",
    "        np.random.seed(seed)\n",
    "        price_path = (self.S0 *\n",
    "                      np.cumprod (np.exp ((self.r - 0.5 * self.sigma ** 2) * self.time_unit +\n",
    "                                    self.sigma * np.sqrt(self.time_unit) \n",
    "                                          * np.random.randn(self.simulations, self.M)), 1))\n",
    "        return price_path\n",
    "\n",
    "    @property\n",
    "    def MCPayoff(self): \n",
    "        if self.option_type == 'call':\n",
    "            MCpayoff = self.discount \\\n",
    "                              * np.maximum(np.mean(self.price_path,1)-self.strike, 0)\n",
    "        else:\n",
    "            MCpayoff = self.discount \\\n",
    "                              * np.maximum(self.strike - np.mean(self.price_path,1), 0)\n",
    "        return MCpayoff\n",
    "    \n",
    "    @property \n",
    "    def value(self):\n",
    "        #without control variate\n",
    "        MCvalue = np.mean(self.MCPayoff)\n",
    "        MCValue_std = np.std(self.MCPayoff)\n",
    "        upper_bound = MCvalue + 1.96 * MCValue_std/np.sqrt(self.simulations)\n",
    "        lower_bound = MCvalue - 1.96 * MCValue_std/np.sqrt(self.simulations)\n",
    "        return MCvalue, lower_bound, upper_bound\n",
    "    \n",
    "    @property\n",
    "    def value_with_control_variate(self):\n",
    "        #with control variate (geometric average asian option)\n",
    "        geometric_average = np.exp( (1/float(self.M)) * np.sum(np.log(self.price_path), 1) )\n",
    "        if self.option_type == 'call':\n",
    "            MCpayoff_geometric = self.discount * np.maximum(geometric_average - self.strike, 0)\n",
    "        else:\n",
    "            MCpayoff_geometric = self.discount * np.maximum(self.strike - geometric_average, 0)\n",
    "        value_with_CV = self.MCPayoff + self.GeometricAsianOption - MCpayoff_geometric        \n",
    "        value_with_control_variate = np.mean(value_with_CV , 0)\n",
    "        value_with_control_variate_std = np.std(value_with_CV, 0)\n",
    "        upper_bound_CV = value_with_control_variate + 1.96 * value_with_control_variate_std/np.sqrt(self.simulations)\n",
    "        lower_bound_CV = value_with_control_variate - 1.96 * value_with_control_variate_std/np.sqrt(self.simulations)        \n",
    "        return value_with_control_variate, lower_bound_CV, upper_bound_CV"
   ]
  },
  {
   "cell_type": "markdown",
   "metadata": {},
   "source": [
    "## Simple MC"
   ]
  },
  {
   "cell_type": "code",
   "execution_count": 3,
   "metadata": {},
   "outputs": [],
   "source": [
    "AsianCall = AsianOptionMC('call', 4., 4., 1., 100., .03, 0, .25, 10000)"
   ]
  },
  {
   "cell_type": "code",
   "execution_count": 4,
   "metadata": {},
   "outputs": [
    {
     "data": {
      "text/plain": [
       "(0.2614162232984296, 0.25359138249114327, 0.26924106410571597)"
      ]
     },
     "execution_count": 4,
     "metadata": {},
     "output_type": "execute_result"
    }
   ],
   "source": [
    "AsianCall.value"
   ]
  },
  {
   "cell_type": "markdown",
   "metadata": {},
   "source": [
    "## MC with control variate"
   ]
  },
  {
   "cell_type": "code",
   "execution_count": 5,
   "metadata": {},
   "outputs": [
    {
     "data": {
      "text/plain": [
       "0.24604398839697852"
      ]
     },
     "execution_count": 5,
     "metadata": {},
     "output_type": "execute_result"
    }
   ],
   "source": [
    "AsianCall.GeometricAsianOption"
   ]
  },
  {
   "cell_type": "code",
   "execution_count": 6,
   "metadata": {},
   "outputs": [
    {
     "data": {
      "text/plain": [
       "(0.2581377128280596, 0.25771678775128265, 0.2585586379048365)"
      ]
     },
     "execution_count": 6,
     "metadata": {},
     "output_type": "execute_result"
    }
   ],
   "source": [
    "AsianCall.value_with_control_variate"
   ]
  },
  {
   "cell_type": "markdown",
   "metadata": {},
   "source": []
  }
 ],
 "metadata": {
  "kernelspec": {
   "display_name": "torch",
   "language": "python",
   "name": "python3"
  },
  "language_info": {
   "codemirror_mode": {
    "name": "ipython",
    "version": 3
   },
   "file_extension": ".py",
   "mimetype": "text/x-python",
   "name": "python",
   "nbconvert_exporter": "python",
   "pygments_lexer": "ipython3",
   "version": "3.8.16"
  }
 },
 "nbformat": 4,
 "nbformat_minor": 2
}
